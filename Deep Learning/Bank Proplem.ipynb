{
  "cells": [
    {
      "metadata": {
        "_uuid": "397c897da415928590cd9a55046cc8cefe96eae4"
      },
      "cell_type": "markdown",
      "source": "## Problem description:\n**The bank manager wants an accurate analysis of the clients who will be leaving the bank, based on the data of all customers over the past three months. All he wants is a simple analysis of the people who may be leaving so that he can burn the marketing team in their direction until they change their mind in the bank.**\nYou as a data analyst will be the reason for the success or failure of the bank and therefore you have to work hard to be able to create the model able to classify them\nIf the accuracy of the model of 70-80%, this is the achievement of no one may reach 100% only in very rare events\n> So imagine yourself saying to your boss: Sir these customers may leave the bank at any time by 80%"
    },
    {
      "metadata": {
        "_uuid": "8f2839f25d086af736a60e9eeb907d3b93b6e0e5",
        "_cell_guid": "b1076dfc-b9ad-4769-8c92-a6c4dae69d19",
        "trusted": true
      },
      "cell_type": "code",
      "source": "import numpy as np # linear algebra\nimport pandas as pd # data processing, CSV file I/O (e.g. pd.read_csv)\nimport keras\nfrom sklearn.preprocessing import LabelEncoder, OneHotEncoder\nfrom sklearn.preprocessing import StandardScaler\nfrom sklearn.metrics import confusion_matrix,accuracy_score\nfrom keras.models import Sequential\nfrom keras.layers import Dense\n",
      "execution_count": 1,
      "outputs": [
        {
          "output_type": "stream",
          "text": "Using TensorFlow backend.\n",
          "name": "stderr"
        }
      ]
    },
    {
      "metadata": {
        "_kg_hide-output": true,
        "_uuid": "0ee4a58e44a902a77c13f433d6a8177e02fd7fa1"
      },
      "cell_type": "markdown",
      "source": "## We will work on two types of strategies in this kernel:\n* Artificial Neural Network (ANN)\n\n* We will also use the KERAS library to implement  ANN . We will clean and separate the data, compare results  We will address the problem and eventually report to the Director General for decision. We will save the bank and be the champions of the month, It's fun to face a real problem, is not it?**"
    },
    {
      "metadata": {
        "_cell_guid": "79c7e3d0-c299-4dcb-8224-4455121ee9b0",
        "collapsed": true,
        "_uuid": "d629ff2d2480ee46fbb7e2d37f6b5fab8052498a",
        "trusted": false
      },
      "cell_type": "markdown",
      "source": "We have a statement of accounts for all customers in three different countries and some columns to describe the status of customers such as, is this client active or not, average customer income, client balance, does the customer have a credit card, Any moment or not, and after the columns containing personal data such as account number, customer name and customer gender, we will use this data to predict whether this customer will leave the bank or stay\n\n**Also note that we will not need three initial columns, it's personal data will not be useful in the analysis, and note that all other columns are independent except the last column where it will be the target**"
    },
    {
      "metadata": {
        "trusted": true,
        "_uuid": "c874a9b05bc9332c2e2b3ccd78a91af811cba981"
      },
      "cell_type": "code",
      "source": "# Read Data From and Reprocessing it\ndataset = pd.read_csv('../input/Churn_Modelling.csv')\nx=dataset.iloc[:,3:-1].values\ny=dataset.iloc[:,-1].values",
      "execution_count": 2,
      "outputs": []
    },
    {
      "metadata": {
        "trusted": true,
        "_uuid": "3a5c5777985c159184f89c1d90519d87c312de08"
      },
      "cell_type": "code",
      "source": "dataset.head()",
      "execution_count": 3,
      "outputs": [
        {
          "output_type": "execute_result",
          "execution_count": 3,
          "data": {
            "text/plain": "   RowNumber  CustomerId   ...   EstimatedSalary  Exited\n0          1    15634602   ...         101348.88       1\n1          2    15647311   ...         112542.58       0\n2          3    15619304   ...         113931.57       1\n3          4    15701354   ...          93826.63       0\n4          5    15737888   ...          79084.10       0\n\n[5 rows x 14 columns]",
            "text/html": "<div>\n<style scoped>\n    .dataframe tbody tr th:only-of-type {\n        vertical-align: middle;\n    }\n\n    .dataframe tbody tr th {\n        vertical-align: top;\n    }\n\n    .dataframe thead th {\n        text-align: right;\n    }\n</style>\n<table border=\"1\" class=\"dataframe\">\n  <thead>\n    <tr style=\"text-align: right;\">\n      <th></th>\n      <th>RowNumber</th>\n      <th>CustomerId</th>\n      <th>Surname</th>\n      <th>CreditScore</th>\n      <th>Geography</th>\n      <th>Gender</th>\n      <th>Age</th>\n      <th>Tenure</th>\n      <th>Balance</th>\n      <th>NumOfProducts</th>\n      <th>HasCrCard</th>\n      <th>IsActiveMember</th>\n      <th>EstimatedSalary</th>\n      <th>Exited</th>\n    </tr>\n  </thead>\n  <tbody>\n    <tr>\n      <th>0</th>\n      <td>1</td>\n      <td>15634602</td>\n      <td>Hargrave</td>\n      <td>619</td>\n      <td>France</td>\n      <td>Female</td>\n      <td>42</td>\n      <td>2</td>\n      <td>0.00</td>\n      <td>1</td>\n      <td>1</td>\n      <td>1</td>\n      <td>101348.88</td>\n      <td>1</td>\n    </tr>\n    <tr>\n      <th>1</th>\n      <td>2</td>\n      <td>15647311</td>\n      <td>Hill</td>\n      <td>608</td>\n      <td>Spain</td>\n      <td>Female</td>\n      <td>41</td>\n      <td>1</td>\n      <td>83807.86</td>\n      <td>1</td>\n      <td>0</td>\n      <td>1</td>\n      <td>112542.58</td>\n      <td>0</td>\n    </tr>\n    <tr>\n      <th>2</th>\n      <td>3</td>\n      <td>15619304</td>\n      <td>Onio</td>\n      <td>502</td>\n      <td>France</td>\n      <td>Female</td>\n      <td>42</td>\n      <td>8</td>\n      <td>159660.80</td>\n      <td>3</td>\n      <td>1</td>\n      <td>0</td>\n      <td>113931.57</td>\n      <td>1</td>\n    </tr>\n    <tr>\n      <th>3</th>\n      <td>4</td>\n      <td>15701354</td>\n      <td>Boni</td>\n      <td>699</td>\n      <td>France</td>\n      <td>Female</td>\n      <td>39</td>\n      <td>1</td>\n      <td>0.00</td>\n      <td>2</td>\n      <td>0</td>\n      <td>0</td>\n      <td>93826.63</td>\n      <td>0</td>\n    </tr>\n    <tr>\n      <th>4</th>\n      <td>5</td>\n      <td>15737888</td>\n      <td>Mitchell</td>\n      <td>850</td>\n      <td>Spain</td>\n      <td>Female</td>\n      <td>43</td>\n      <td>2</td>\n      <td>125510.82</td>\n      <td>1</td>\n      <td>1</td>\n      <td>1</td>\n      <td>79084.10</td>\n      <td>0</td>\n    </tr>\n  </tbody>\n</table>\n</div>"
          },
          "metadata": {}
        }
      ]
    },
    {
      "metadata": {
        "_uuid": "a1bdafe4cc0b445804e51d84c456560295b9244c"
      },
      "cell_type": "markdown",
      "source": "Now we will work on converting the Categorical data into Numbers so that it is easy to deal with them. We can't make equations for these data and there are non-numerical inputs. This is impossible. We will convert all Categorical data into numeric data  1,2, 3,4 and so on\nWe will process this on two columns of the total column, the first column will be the gender, the second column will be the country, we note that there are 3 countries, Spain, France, Germany .."
    },
    {
      "metadata": {
        "trusted": true,
        "_uuid": "6be13901973d904da398070dc184f549f05d6437"
      },
      "cell_type": "code",
      "source": "# Label Encoder Categorical Data [1:2]\nLabel_x1=LabelEncoder()\nLabel_x2=LabelEncoder()\n\nx[:,1]=Label_x1.fit_transform(x[:,1])\nx[:,2]=Label_x2.fit_transform(x[:,2])",
      "execution_count": 4,
      "outputs": []
    },
    {
      "metadata": {
        "_uuid": "5151d7e7a3e4618f295f9fdd5654730b60557d2a"
      },
      "cell_type": "markdown",
      "source": "We will now work on converting each numeric value converted into a column and we will scan the dummy variables that may affect the output. To explain the dummy variable, we will simply do so. You have three countries. If the country is France, it is impossible to be Germany or Spain,If the country is France, it is impossible to be Germany or Spain, if not France or Germany is expected to be ... ? Of course, Spain. This is what we will do. \nyou have to do with the Bank's branches in different countries. Therefore, we expect a variable result in changing the country, so we can easily delete the third column or the first column because it will not affect the accounts permanently."
    },
    {
      "metadata": {
        "trusted": true,
        "_uuid": "846a4ad1232f6e3bdda5736c1b3222732c6329fe"
      },
      "cell_type": "code",
      "source": "#Let's Switch This Label to Coulmn\nOneHotEncoder=OneHotEncoder(categorical_features=[1])\nx=OneHotEncoder.fit_transform(x).toarray()\n\n#removing Dummy Variable\nx=x[:,1:]",
      "execution_count": 5,
      "outputs": [
        {
          "output_type": "stream",
          "text": "/opt/conda/lib/python3.6/site-packages/sklearn/preprocessing/_encoders.py:363: FutureWarning: The handling of integer data will change in version 0.22. Currently, the categories are determined based on the range [0, max(values)], while in the future they will be determined based on the unique values.\nIf you want the future behaviour and silence this warning, you can specify \"categories='auto'\".\nIn case you used a LabelEncoder before this OneHotEncoder to convert the categories to integers, then you can now use the OneHotEncoder directly.\n  warnings.warn(msg, FutureWarning)\n/opt/conda/lib/python3.6/site-packages/sklearn/preprocessing/_encoders.py:385: DeprecationWarning: The 'categorical_features' keyword is deprecated in version 0.20 and will be removed in 0.22. You can use the ColumnTransformer instead.\n  \"use the ColumnTransformer instead.\", DeprecationWarning)\n",
          "name": "stderr"
        }
      ]
    },
    {
      "metadata": {
        "_uuid": "ff61b52a5bcd63d207fd14bf8f4e4f759bcdb882"
      },
      "cell_type": "markdown",
      "source": "**Unfortunately, it looks like I'm a bit old, it does not matter how you write the code or keep you informed about what's new, all that matters is the effectiveness of your code in the real world. Will your code add value or not? **"
    },
    {
      "metadata": {
        "_uuid": "49858d0ba03c68b809b5c39319a7fb077e890320"
      },
      "cell_type": "markdown",
      "source": "In this process we will work on dividing the data into four sections. The first section is to train the model. The second section is to test the model and its effectiveness on the second part of the data. In fact, you need hundreds of thousands of rows to produce a strong model."
    },
    {
      "metadata": {
        "trusted": true,
        "_uuid": "0fd238864e455c908c46472ae59042272536e6f7"
      },
      "cell_type": "code",
      "source": "#Splitting Data \nfrom sklearn.model_selection import train_test_split\nX_train, X_test, y_train, y_test = train_test_split(x, y, test_size = 0.25, random_state = 0)\n",
      "execution_count": 6,
      "outputs": []
    },
    {
      "metadata": {
        "_uuid": "eba0e5f52ff02d008a31db87e1f6816b0e3c4f67"
      },
      "cell_type": "markdown",
      "source": "We see that we have many values, such as the age of 1-100 and the salary ranges from 1-10000 and cridetScore  ranges from 1-1000, we note that we have many weights for each Feature , in this process we will work to unify those weights to range from -1 to 1 so that we can manufacture an equation to predict"
    },
    {
      "metadata": {
        "trusted": true,
        "_uuid": "f74378a2f669d0cc942fd6d3a80dc7c201b9eec0"
      },
      "cell_type": "code",
      "source": "#StandardScaler Variable\nsc=StandardScaler()\nX_train=sc.fit_transform(X_train)\nX_test=sc.transform(X_test)",
      "execution_count": 7,
      "outputs": []
    },
    {
      "metadata": {
        "_uuid": "649621c91d9cfdc22820fcb9db93b4e88d2f1935"
      },
      "cell_type": "markdown",
      "source": "I will explain the neurons in a very simplified way and I hope you like it, you can return to [Wikipedia](https://en.wikipedia.org/wiki/Artificial_neural_network) if you want more details about it Let's start\nThe human brain contains billions of neurons, which work together to think, test and analyze, each with millions of functions. We will add one neuron in these data and we will see test results\n\nSimply enter the data from the input layer, connect to the hidden layer, and then work on output results in the output layer, for example I want to buy a house should care about the size of the house and the location of the house, the number of rooms, utilities, to predict the price of the right home for me **( output Layer )** , All I have to do is find out what I want **(Hidden Layer)** . For example, I want an average house, a house in a quiet area, a house with at least three rooms,I will now make a list of available houses on the ads page **(Input Layer)** to choose the average value for the house I want"
    },
    {
      "metadata": {
        "_uuid": "6ab3ce5f313665aafa0c959a1e3abb4e406d44f1"
      },
      "cell_type": "markdown",
      "source": "![](https://upload.wikimedia.org/wikipedia/commons/4/43/Neural_Network.gif)"
    },
    {
      "metadata": {
        "_uuid": "af26c61ef2199129a33fe13f444b221282040197"
      },
      "cell_type": "markdown",
      "source": "**We will add two hidden layers inside our first cell consists of 11 input will work together to make 6 outputs and then the 6 output  will work together to output one result and this result will represent the percentage of survival or exit of the client from the bank**"
    },
    {
      "metadata": {
        "_uuid": "f2a42930e56ab616442b924c19283118764b46cd"
      },
      "cell_type": "markdown",
      "source": "You can see some of the terms that we use in this model to predict via Wikipedia [Backpropagation](https://en.wikipedia.org/wiki/Backpropagation),[Sigmoid_function](https://en.wikipedia.org/wiki/Sigmoid_function) ,[Gradient-Descent](https://www.bogotobogo.com/python/scikit-learn/Artificial-Neural-Network-ANN-3-Gradient-Descent.php) , but simply all I will mention are the strategies we will deal with within ANN , [sequential Model Keras ](https://keras.io/getting-started/sequential-model-guide/)"
    },
    {
      "metadata": {
        "trusted": true,
        "_uuid": "2f341b68f886f3d3a1114b8017e0f0b39758b67f"
      },
      "cell_type": "code",
      "source": "#Let's Create our CNN\nmodel = Sequential()\n# Adding the first hidden layer\nmodel.add(Dense(input_dim=11,output_dim=6,init='uniform',activation='relu'))\n# Adding the second hidden layer\nmodel.add(Dense(output_dim=6,init='uniform',activation='relu'))\n# Adding the output hidden layer\nmodel.add(Dense(output_dim=1,init='uniform',activation='sigmoid'))\n\n# Compiling The Model\nmodel.compile(optimizer='adam',loss='binary_crossentropy',metrics=['accuracy'])\nmodel.fit(X_train, y_train, batch_size = 10, nb_epoch = 10)\n",
      "execution_count": 8,
      "outputs": [
        {
          "output_type": "stream",
          "text": "/opt/conda/lib/python3.6/site-packages/ipykernel_launcher.py:4: UserWarning: Update your `Dense` call to the Keras 2 API: `Dense(input_dim=11, activation=\"relu\", units=6, kernel_initializer=\"uniform\")`\n  after removing the cwd from sys.path.\n/opt/conda/lib/python3.6/site-packages/ipykernel_launcher.py:6: UserWarning: Update your `Dense` call to the Keras 2 API: `Dense(activation=\"relu\", units=6, kernel_initializer=\"uniform\")`\n  \n/opt/conda/lib/python3.6/site-packages/ipykernel_launcher.py:8: UserWarning: Update your `Dense` call to the Keras 2 API: `Dense(activation=\"sigmoid\", units=1, kernel_initializer=\"uniform\")`\n  \n/opt/conda/lib/python3.6/site-packages/ipykernel_launcher.py:12: UserWarning: The `nb_epoch` argument in `fit` has been renamed `epochs`.\n  if sys.path[0] == '':\n",
          "name": "stderr"
        },
        {
          "output_type": "stream",
          "text": "Epoch 1/10\n7500/7500 [==============================] - 1s 174us/step - loss: 0.4856 - acc: 0.7959\nEpoch 2/10\n7500/7500 [==============================] - 1s 111us/step - loss: 0.4287 - acc: 0.7963\nEpoch 3/10\n7500/7500 [==============================] - 1s 100us/step - loss: 0.4240 - acc: 0.7963\nEpoch 4/10\n7500/7500 [==============================] - 1s 97us/step - loss: 0.4199 - acc: 0.8132\nEpoch 5/10\n7500/7500 [==============================] - 1s 99us/step - loss: 0.4175 - acc: 0.8239\nEpoch 6/10\n7500/7500 [==============================] - 1s 97us/step - loss: 0.4155 - acc: 0.8269\nEpoch 7/10\n7500/7500 [==============================] - 1s 101us/step - loss: 0.4146 - acc: 0.8299\nEpoch 8/10\n7500/7500 [==============================] - 1s 97us/step - loss: 0.4128 - acc: 0.8315\nEpoch 9/10\n7500/7500 [==============================] - 1s 102us/step - loss: 0.4121 - acc: 0.8309\nEpoch 10/10\n7500/7500 [==============================] - 1s 97us/step - loss: 0.4114 - acc: 0.8341\n",
          "name": "stdout"
        },
        {
          "output_type": "execute_result",
          "execution_count": 8,
          "data": {
            "text/plain": "<keras.callbacks.History at 0x7f7221627860>"
          },
          "metadata": {}
        }
      ]
    },
    {
      "metadata": {
        "_uuid": "713ce51744c4e39b4931c257862264fdf5fb78f0"
      },
      "cell_type": "markdown",
      "source": "The model has been successfully trained and we are currently working on predicting some values. You can check the values of y_pred that will be between 0 and 1 and this is illogical. We want to put an end to this and we will put a condition if the value is greater than 0.5 the client wil left the bank else will stay with us , after this point we will "
    },
    {
      "metadata": {
        "trusted": true,
        "_uuid": "d5cc403221776dc11f44d1935c31fb3d51895029"
      },
      "cell_type": "code",
      "source": "y_pred = model.predict(X_test)\ny_pred = (y_pred > 0.50)\n\n# Making the Confusion Matrix\ncm = confusion_matrix(y_test, y_pred)\nprint(accuracy_score(y_test,y_pred)*100,'%')",
      "execution_count": 9,
      "outputs": [
        {
          "output_type": "stream",
          "text": "83.67999999999999 %\n",
          "name": "stdout"
        }
      ]
    },
    {
      "metadata": {
        "_uuid": "e17b65b13a875820c5e0d4ea281825e49981b14f"
      },
      "cell_type": "markdown",
      "source": "In the final step, we will calculate the percentage of confirmation of our predict , which reached 81 - 84%. This is not a small number. You can inform your manager of the percentage of Confidence  of  who will leave us at any moment and he will give the marketing team special attention. The last step you will take is to extract personal data and account numbers for people who may leave the bank at any moment. All you have to do is return the separated\n\nI hope that this simple explanation will help you solve a problem in detail in a simplified way. Please vote and thank you"
    },
    {
      "metadata": {
        "trusted": true,
        "_uuid": "ac1eb7c33b69fe0aa14d78b85665d7c70ecef938"
      },
      "cell_type": "code",
      "source": "",
      "execution_count": null,
      "outputs": []
    }
  ],
  "metadata": {
    "kernelspec": {
      "display_name": "Python 3",
      "language": "python",
      "name": "python3"
    },
    "language_info": {
      "name": "python",
      "version": "3.6.6",
      "mimetype": "text/x-python",
      "codemirror_mode": {
        "name": "ipython",
        "version": 3
      },
      "pygments_lexer": "ipython3",
      "nbconvert_exporter": "python",
      "file_extension": ".py"
    }
  },
  "nbformat": 4,
  "nbformat_minor": 1
}