{
  "cells": [
    {
      "metadata": {
        "_uuid": "8f2839f25d086af736a60e9eeb907d3b93b6e0e5",
        "_cell_guid": "b1076dfc-b9ad-4769-8c92-a6c4dae69d19",
        "trusted": true
      },
      "cell_type": "code",
      "source": "# Importing the libraries\nimport numpy as np\nimport matplotlib.pyplot as plt\nimport pandas as pd\nimport seaborn as sns\nfrom sklearn.model_selection import train_test_split, GridSearchCV, cross_val_score\nfrom sklearn.metrics import confusion_matrix,accuracy_score\nfrom sklearn.decomposition import PCA,KernelPCA\nfrom sklearn.linear_model import LogisticRegression\nfrom sklearn.tree import DecisionTreeClassifier\nfrom sklearn.naive_bayes import GaussianNB\nfrom sklearn.ensemble import RandomForestClassifier,GradientBoostingClassifier\nfrom sklearn.svm import SVC\nfrom sklearn.neighbors import KNeighborsClassifier\nfrom sklearn.pipeline import Pipeline\nfrom sklearn.preprocessing import LabelEncoder, StandardScaler\nfrom sklearn.model_selection import cross_validate\nfrom sklearn.discriminant_analysis import LinearDiscriminantAnalysis as LDA\n\nimport warnings\n\ndef fxn():\n    warnings.warn(\"deprecated\", DeprecationWarning)\n\nimport warnings\nwarnings.filterwarnings(\"ignore\")\n    \n\n\n",
      "execution_count": 68,
      "outputs": []
    },
    {
      "metadata": {
        "trusted": true,
        "_uuid": "9c79e0974ae9048bf8412a74583108d92a433741"
      },
      "cell_type": "code",
      "source": "# Importing the dataset\ndata = pd.read_csv('../input/winequality-red.csv')\ndata.head(5)\n",
      "execution_count": 69,
      "outputs": [
        {
          "output_type": "execute_result",
          "execution_count": 69,
          "data": {
            "text/plain": "   fixed acidity  volatile acidity   ...     alcohol  quality\n0            7.4              0.70   ...         9.4        5\n1            7.8              0.88   ...         9.8        5\n2            7.8              0.76   ...         9.8        5\n3           11.2              0.28   ...         9.8        6\n4            7.4              0.70   ...         9.4        5\n\n[5 rows x 12 columns]",
            "text/html": "<div>\n<style scoped>\n    .dataframe tbody tr th:only-of-type {\n        vertical-align: middle;\n    }\n\n    .dataframe tbody tr th {\n        vertical-align: top;\n    }\n\n    .dataframe thead th {\n        text-align: right;\n    }\n</style>\n<table border=\"1\" class=\"dataframe\">\n  <thead>\n    <tr style=\"text-align: right;\">\n      <th></th>\n      <th>fixed acidity</th>\n      <th>volatile acidity</th>\n      <th>citric acid</th>\n      <th>residual sugar</th>\n      <th>chlorides</th>\n      <th>free sulfur dioxide</th>\n      <th>total sulfur dioxide</th>\n      <th>density</th>\n      <th>pH</th>\n      <th>sulphates</th>\n      <th>alcohol</th>\n      <th>quality</th>\n    </tr>\n  </thead>\n  <tbody>\n    <tr>\n      <th>0</th>\n      <td>7.4</td>\n      <td>0.70</td>\n      <td>0.00</td>\n      <td>1.9</td>\n      <td>0.076</td>\n      <td>11.0</td>\n      <td>34.0</td>\n      <td>0.9978</td>\n      <td>3.51</td>\n      <td>0.56</td>\n      <td>9.4</td>\n      <td>5</td>\n    </tr>\n    <tr>\n      <th>1</th>\n      <td>7.8</td>\n      <td>0.88</td>\n      <td>0.00</td>\n      <td>2.6</td>\n      <td>0.098</td>\n      <td>25.0</td>\n      <td>67.0</td>\n      <td>0.9968</td>\n      <td>3.20</td>\n      <td>0.68</td>\n      <td>9.8</td>\n      <td>5</td>\n    </tr>\n    <tr>\n      <th>2</th>\n      <td>7.8</td>\n      <td>0.76</td>\n      <td>0.04</td>\n      <td>2.3</td>\n      <td>0.092</td>\n      <td>15.0</td>\n      <td>54.0</td>\n      <td>0.9970</td>\n      <td>3.26</td>\n      <td>0.65</td>\n      <td>9.8</td>\n      <td>5</td>\n    </tr>\n    <tr>\n      <th>3</th>\n      <td>11.2</td>\n      <td>0.28</td>\n      <td>0.56</td>\n      <td>1.9</td>\n      <td>0.075</td>\n      <td>17.0</td>\n      <td>60.0</td>\n      <td>0.9980</td>\n      <td>3.16</td>\n      <td>0.58</td>\n      <td>9.8</td>\n      <td>6</td>\n    </tr>\n    <tr>\n      <th>4</th>\n      <td>7.4</td>\n      <td>0.70</td>\n      <td>0.00</td>\n      <td>1.9</td>\n      <td>0.076</td>\n      <td>11.0</td>\n      <td>34.0</td>\n      <td>0.9978</td>\n      <td>3.51</td>\n      <td>0.56</td>\n      <td>9.4</td>\n      <td>5</td>\n    </tr>\n  </tbody>\n</table>\n</div>"
          },
          "metadata": {}
        }
      ]
    },
    {
      "metadata": {
        "_uuid": "09451941359b0d0639d9f8ae0a2c5ac5318a70a2"
      },
      "cell_type": "markdown",
      "source": "#### for improving model performance we need to split all wines types in three category good,fine and bad"
    },
    {
      "metadata": {
        "trusted": true,
        "_uuid": "0dd5f67c88157ff2f6fdaebe7fe4bc4ca213fe25"
      },
      "cell_type": "code",
      "source": "reviews = []\nfor i in data['quality']:\n    if i >= 1 and i <= 3:\n        reviews.append('1')\n    elif i >= 4 and i <= 7:\n        reviews.append('2')\n    elif i >= 8 and i <= 10:\n        reviews.append('3')\ndata['Reviews'] = reviews\n\ndata.head()",
      "execution_count": 70,
      "outputs": [
        {
          "output_type": "execute_result",
          "execution_count": 70,
          "data": {
            "text/plain": "   fixed acidity  volatile acidity   ...     quality  Reviews\n0            7.4              0.70   ...           5        2\n1            7.8              0.88   ...           5        2\n2            7.8              0.76   ...           5        2\n3           11.2              0.28   ...           6        2\n4            7.4              0.70   ...           5        2\n\n[5 rows x 13 columns]",
            "text/html": "<div>\n<style scoped>\n    .dataframe tbody tr th:only-of-type {\n        vertical-align: middle;\n    }\n\n    .dataframe tbody tr th {\n        vertical-align: top;\n    }\n\n    .dataframe thead th {\n        text-align: right;\n    }\n</style>\n<table border=\"1\" class=\"dataframe\">\n  <thead>\n    <tr style=\"text-align: right;\">\n      <th></th>\n      <th>fixed acidity</th>\n      <th>volatile acidity</th>\n      <th>citric acid</th>\n      <th>residual sugar</th>\n      <th>chlorides</th>\n      <th>free sulfur dioxide</th>\n      <th>total sulfur dioxide</th>\n      <th>density</th>\n      <th>pH</th>\n      <th>sulphates</th>\n      <th>alcohol</th>\n      <th>quality</th>\n      <th>Reviews</th>\n    </tr>\n  </thead>\n  <tbody>\n    <tr>\n      <th>0</th>\n      <td>7.4</td>\n      <td>0.70</td>\n      <td>0.00</td>\n      <td>1.9</td>\n      <td>0.076</td>\n      <td>11.0</td>\n      <td>34.0</td>\n      <td>0.9978</td>\n      <td>3.51</td>\n      <td>0.56</td>\n      <td>9.4</td>\n      <td>5</td>\n      <td>2</td>\n    </tr>\n    <tr>\n      <th>1</th>\n      <td>7.8</td>\n      <td>0.88</td>\n      <td>0.00</td>\n      <td>2.6</td>\n      <td>0.098</td>\n      <td>25.0</td>\n      <td>67.0</td>\n      <td>0.9968</td>\n      <td>3.20</td>\n      <td>0.68</td>\n      <td>9.8</td>\n      <td>5</td>\n      <td>2</td>\n    </tr>\n    <tr>\n      <th>2</th>\n      <td>7.8</td>\n      <td>0.76</td>\n      <td>0.04</td>\n      <td>2.3</td>\n      <td>0.092</td>\n      <td>15.0</td>\n      <td>54.0</td>\n      <td>0.9970</td>\n      <td>3.26</td>\n      <td>0.65</td>\n      <td>9.8</td>\n      <td>5</td>\n      <td>2</td>\n    </tr>\n    <tr>\n      <th>3</th>\n      <td>11.2</td>\n      <td>0.28</td>\n      <td>0.56</td>\n      <td>1.9</td>\n      <td>0.075</td>\n      <td>17.0</td>\n      <td>60.0</td>\n      <td>0.9980</td>\n      <td>3.16</td>\n      <td>0.58</td>\n      <td>9.8</td>\n      <td>6</td>\n      <td>2</td>\n    </tr>\n    <tr>\n      <th>4</th>\n      <td>7.4</td>\n      <td>0.70</td>\n      <td>0.00</td>\n      <td>1.9</td>\n      <td>0.076</td>\n      <td>11.0</td>\n      <td>34.0</td>\n      <td>0.9978</td>\n      <td>3.51</td>\n      <td>0.56</td>\n      <td>9.4</td>\n      <td>5</td>\n      <td>2</td>\n    </tr>\n  </tbody>\n</table>\n</div>"
          },
          "metadata": {}
        }
      ]
    },
    {
      "metadata": {
        "_uuid": "4d683d2dd34bddbf6760584d05169caba112be8a"
      },
      "cell_type": "markdown",
      "source": "### Splitting Data \nx = independent values\ny = depended values review is the only one depended yea it's review\n**notice:\nyou can select last index into coulmn index by : -1**"
    },
    {
      "metadata": {
        "trusted": true,
        "_uuid": "abebb4d7b85ce055bdfe1783a83c779113439574"
      },
      "cell_type": "code",
      "source": "x = data.iloc[:, 0:-2].values\ny = data.iloc[:, -1].values",
      "execution_count": 71,
      "outputs": []
    },
    {
      "metadata": {
        "_uuid": "e2324a36f25c11654eb3e8c1944db61cf1ff6741"
      },
      "cell_type": "markdown",
      "source": "### Creatting the Model\n here we create pip line with Standard scaler step(1) and KernelPCA step(2) and logistic regression model step(3) we will change it later any way"
    },
    {
      "metadata": {
        "_uuid": "541c8e5292e7f271c115d1b1d633574249f78fd9"
      },
      "cell_type": "markdown",
      "source": " ### A-Dimensionality reduction\nyou can read more about it here [Principal component](https://en.wikipedia.org/wiki/Principal_component_analysis) , but simply you can reduce your Dimensions easly , the    dimensions is your columns count and this process try to reduce it with out effect with your data.\nPCA , PCA KERNEL and plotting explained_variance to see the best components number for setting !"
    },
    {
      "metadata": {
        "trusted": true,
        "_uuid": "aec61f7f140682072adb32124b7a3150d3f31b4d"
      },
      "cell_type": "code",
      "source": "sc_x=StandardScaler()\nx = sc_x.fit_transform(x)\n\npca=PCA()\nx_pca = pca.fit_transform(x)\nplt.figure(figsize=(10,10))\nplt.plot(np.cumsum(pca.explained_variance_ratio_), 'ro-')\nplt.grid()",
      "execution_count": 72,
      "outputs": [
        {
          "output_type": "display_data",
          "data": {
            "text/plain": "<Figure size 720x720 with 1 Axes>",
            "image/png": "[encoded data removed]"
          },
          "metadata": {}
        }
      ]
    },
    {
      "metadata": {
        "trusted": true,
        "_uuid": "5def8619767bd832762a2c605530392f08282b13"
      },
      "cell_type": "code",
      "source": "pca_new = PCA(n_components=8)\nx_new = pca_new.fit_transform(x)\n",
      "execution_count": 73,
      "outputs": []
    },
    {
      "metadata": {
        "trusted": true,
        "_uuid": "c0de6ed0c260c447a798c463c2b46c08d00c0563"
      },
      "cell_type": "code",
      "source": "\n# Splitting the dataset into the Training set and Test set\nX_train, X_test, y_train, y_test = train_test_split(x_new, y, test_size = 0.2, random_state = 1)",
      "execution_count": 74,
      "outputs": []
    },
    {
      "metadata": {
        "trusted": true,
        "_uuid": "d37ed921d571a9bccf12fcaed938959ac9818461"
      },
      "cell_type": "code",
      "source": "def classifier(model):\n    model.fit(X_train,y_train)\n    y_pred=model.predict(X_test)\n    score=accuracy_score(y_pred,y_test)\n    return score*100",
      "execution_count": 75,
      "outputs": []
    },
    {
      "metadata": {
        "trusted": true,
        "_uuid": "29a238c7ad2c52775488e355ce5162a982772346"
      },
      "cell_type": "code",
      "source": "classifier(KNeighborsClassifier(n_neighbors=100)),classifier(RandomForestClassifier(n_estimators=100)),classifier(LogisticRegression()),classifier(GaussianNB())\n",
      "execution_count": 76,
      "outputs": [
        {
          "output_type": "execute_result",
          "execution_count": 76,
          "data": {
            "text/plain": "(99.0625, 99.375, 99.0625, 98.4375)"
          },
          "metadata": {}
        }
      ]
    },
    {
      "metadata": {
        "_uuid": "7f3c4601477e172a21faa99234b21707c2b53f8e"
      },
      "cell_type": "markdown",
      "source": "Like we see the best for this Case is Random Forest classifier  like always  with estimators count = 100 it's great to see that 99,375% can you do more than that  with the same case lets see what you can do then ?\n\n**Notice: you can get a better result when you Learn how to tunning hyperparametric , Comment if there is thing i miss , and try to get more than that result :\"D**"
    },
    {
      "metadata": {
        "trusted": true,
        "_uuid": "b08e6db14ab295f140606c9dacb1cc660149bca5"
      },
      "cell_type": "code",
      "source": "",
      "execution_count": null,
      "outputs": []
    }
  ],
  "metadata": {
    "kernelspec": {
      "display_name": "Python 3",
      "language": "python",
      "name": "python3"
    },
    "language_info": {
      "name": "python",
      "version": "3.6.6",
      "mimetype": "text/x-python",
      "codemirror_mode": {
        "name": "ipython",
        "version": 3
      },
      "pygments_lexer": "ipython3",
      "nbconvert_exporter": "python",
      "file_extension": ".py"
    }
  },
  "nbformat": 4,
  "nbformat_minor": 1
}